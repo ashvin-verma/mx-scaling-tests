{
 "cells": [
  {
   "cell_type": "code",
   "execution_count": 2,
   "id": "e2dec060-6477-4415-a229-5d6bb2f8052b",
   "metadata": {},
   "outputs": [
    {
     "name": "stdout",
     "output_type": "stream",
     "text": [
      "Requirement already satisfied: torch in /home/ashvin/.conda/envs/mx-scaling/lib/python3.13/site-packages (2.7.1)\n",
      "Requirement already satisfied: torchvision in /home/ashvin/.conda/envs/mx-scaling/lib/python3.13/site-packages (0.22.1)\n",
      "Collecting pytorch-ignite\n",
      "  Downloading pytorch_ignite-0.5.2-py3-none-any.whl.metadata (27 kB)\n",
      "Collecting transformers\n",
      "  Downloading transformers-4.53.1-py3-none-any.whl.metadata (40 kB)\n",
      "Requirement already satisfied: datasets in /home/ashvin/.conda/envs/mx-scaling/lib/python3.13/site-packages (3.6.0)\n",
      "Requirement already satisfied: filelock in /home/ashvin/.conda/envs/mx-scaling/lib/python3.13/site-packages (from torch) (3.18.0)\n",
      "Requirement already satisfied: typing-extensions>=4.10.0 in /home/ashvin/.conda/envs/mx-scaling/lib/python3.13/site-packages (from torch) (4.12.2)\n",
      "Requirement already satisfied: setuptools in /home/ashvin/.conda/envs/mx-scaling/lib/python3.13/site-packages (from torch) (78.1.1)\n",
      "Requirement already satisfied: sympy>=1.13.3 in /home/ashvin/.conda/envs/mx-scaling/lib/python3.13/site-packages (from torch) (1.14.0)\n",
      "Requirement already satisfied: networkx in /home/ashvin/.conda/envs/mx-scaling/lib/python3.13/site-packages (from torch) (3.5)\n",
      "Requirement already satisfied: jinja2 in /home/ashvin/.conda/envs/mx-scaling/lib/python3.13/site-packages (from torch) (3.1.6)\n",
      "Requirement already satisfied: fsspec in /home/ashvin/.conda/envs/mx-scaling/lib/python3.13/site-packages (from torch) (2025.3.0)\n",
      "Requirement already satisfied: nvidia-cuda-nvrtc-cu12==12.6.77 in /home/ashvin/.conda/envs/mx-scaling/lib/python3.13/site-packages (from torch) (12.6.77)\n",
      "Requirement already satisfied: nvidia-cuda-runtime-cu12==12.6.77 in /home/ashvin/.conda/envs/mx-scaling/lib/python3.13/site-packages (from torch) (12.6.77)\n",
      "Requirement already satisfied: nvidia-cuda-cupti-cu12==12.6.80 in /home/ashvin/.conda/envs/mx-scaling/lib/python3.13/site-packages (from torch) (12.6.80)\n",
      "Requirement already satisfied: nvidia-cudnn-cu12==9.5.1.17 in /home/ashvin/.conda/envs/mx-scaling/lib/python3.13/site-packages (from torch) (9.5.1.17)\n",
      "Requirement already satisfied: nvidia-cublas-cu12==12.6.4.1 in /home/ashvin/.conda/envs/mx-scaling/lib/python3.13/site-packages (from torch) (12.6.4.1)\n",
      "Requirement already satisfied: nvidia-cufft-cu12==11.3.0.4 in /home/ashvin/.conda/envs/mx-scaling/lib/python3.13/site-packages (from torch) (11.3.0.4)\n",
      "Requirement already satisfied: nvidia-curand-cu12==10.3.7.77 in /home/ashvin/.conda/envs/mx-scaling/lib/python3.13/site-packages (from torch) (10.3.7.77)\n",
      "Requirement already satisfied: nvidia-cusolver-cu12==11.7.1.2 in /home/ashvin/.conda/envs/mx-scaling/lib/python3.13/site-packages (from torch) (11.7.1.2)\n",
      "Requirement already satisfied: nvidia-cusparse-cu12==12.5.4.2 in /home/ashvin/.conda/envs/mx-scaling/lib/python3.13/site-packages (from torch) (12.5.4.2)\n",
      "Requirement already satisfied: nvidia-cusparselt-cu12==0.6.3 in /home/ashvin/.conda/envs/mx-scaling/lib/python3.13/site-packages (from torch) (0.6.3)\n",
      "Requirement already satisfied: nvidia-nccl-cu12==2.26.2 in /home/ashvin/.conda/envs/mx-scaling/lib/python3.13/site-packages (from torch) (2.26.2)\n",
      "Requirement already satisfied: nvidia-nvtx-cu12==12.6.77 in /home/ashvin/.conda/envs/mx-scaling/lib/python3.13/site-packages (from torch) (12.6.77)\n",
      "Requirement already satisfied: nvidia-nvjitlink-cu12==12.6.85 in /home/ashvin/.conda/envs/mx-scaling/lib/python3.13/site-packages (from torch) (12.6.85)\n",
      "Requirement already satisfied: nvidia-cufile-cu12==1.11.1.6 in /home/ashvin/.conda/envs/mx-scaling/lib/python3.13/site-packages (from torch) (1.11.1.6)\n",
      "Requirement already satisfied: triton==3.3.1 in /home/ashvin/.conda/envs/mx-scaling/lib/python3.13/site-packages (from torch) (3.3.1)\n",
      "Requirement already satisfied: numpy in /home/ashvin/.conda/envs/mx-scaling/lib/python3.13/site-packages (from torchvision) (2.3.1)\n",
      "Requirement already satisfied: pillow!=8.3.*,>=5.3.0 in /home/ashvin/.conda/envs/mx-scaling/lib/python3.13/site-packages (from torchvision) (11.3.0)\n",
      "Requirement already satisfied: packaging in /home/ashvin/.conda/envs/mx-scaling/lib/python3.13/site-packages (from pytorch-ignite) (24.2)\n",
      "Requirement already satisfied: huggingface-hub<1.0,>=0.30.0 in /home/ashvin/.conda/envs/mx-scaling/lib/python3.13/site-packages (from transformers) (0.33.2)\n",
      "Requirement already satisfied: pyyaml>=5.1 in /home/ashvin/.conda/envs/mx-scaling/lib/python3.13/site-packages (from transformers) (6.0.2)\n",
      "Collecting regex!=2019.12.17 (from transformers)\n",
      "  Downloading regex-2024.11.6-cp313-cp313-manylinux_2_17_x86_64.manylinux2014_x86_64.whl.metadata (40 kB)\n",
      "Requirement already satisfied: requests in /home/ashvin/.conda/envs/mx-scaling/lib/python3.13/site-packages (from transformers) (2.32.4)\n",
      "Collecting tokenizers<0.22,>=0.21 (from transformers)\n",
      "  Downloading tokenizers-0.21.2-cp39-abi3-manylinux_2_17_x86_64.manylinux2014_x86_64.whl.metadata (6.8 kB)\n",
      "Collecting safetensors>=0.4.3 (from transformers)\n",
      "  Downloading safetensors-0.5.3-cp38-abi3-manylinux_2_17_x86_64.manylinux2014_x86_64.whl.metadata (3.8 kB)\n",
      "Requirement already satisfied: tqdm>=4.27 in /home/ashvin/.conda/envs/mx-scaling/lib/python3.13/site-packages (from transformers) (4.67.1)\n",
      "Requirement already satisfied: hf-xet<2.0.0,>=1.1.2 in /home/ashvin/.conda/envs/mx-scaling/lib/python3.13/site-packages (from huggingface-hub<1.0,>=0.30.0->transformers) (1.1.5)\n",
      "Requirement already satisfied: pyarrow>=15.0.0 in /home/ashvin/.conda/envs/mx-scaling/lib/python3.13/site-packages (from datasets) (20.0.0)\n",
      "Requirement already satisfied: dill<0.3.9,>=0.3.0 in /home/ashvin/.conda/envs/mx-scaling/lib/python3.13/site-packages (from datasets) (0.3.8)\n",
      "Requirement already satisfied: pandas in /home/ashvin/.conda/envs/mx-scaling/lib/python3.13/site-packages (from datasets) (2.3.1)\n",
      "Requirement already satisfied: xxhash in /home/ashvin/.conda/envs/mx-scaling/lib/python3.13/site-packages (from datasets) (3.5.0)\n",
      "Requirement already satisfied: multiprocess<0.70.17 in /home/ashvin/.conda/envs/mx-scaling/lib/python3.13/site-packages (from datasets) (0.70.16)\n",
      "Requirement already satisfied: aiohttp!=4.0.0a0,!=4.0.0a1 in /home/ashvin/.conda/envs/mx-scaling/lib/python3.13/site-packages (from fsspec[http]<=2025.3.0,>=2023.1.0->datasets) (3.12.13)\n",
      "Requirement already satisfied: aiohappyeyeballs>=2.5.0 in /home/ashvin/.conda/envs/mx-scaling/lib/python3.13/site-packages (from aiohttp!=4.0.0a0,!=4.0.0a1->fsspec[http]<=2025.3.0,>=2023.1.0->datasets) (2.6.1)\n",
      "Requirement already satisfied: aiosignal>=1.1.2 in /home/ashvin/.conda/envs/mx-scaling/lib/python3.13/site-packages (from aiohttp!=4.0.0a0,!=4.0.0a1->fsspec[http]<=2025.3.0,>=2023.1.0->datasets) (1.4.0)\n",
      "Requirement already satisfied: attrs>=17.3.0 in /home/ashvin/.conda/envs/mx-scaling/lib/python3.13/site-packages (from aiohttp!=4.0.0a0,!=4.0.0a1->fsspec[http]<=2025.3.0,>=2023.1.0->datasets) (24.3.0)\n",
      "Requirement already satisfied: frozenlist>=1.1.1 in /home/ashvin/.conda/envs/mx-scaling/lib/python3.13/site-packages (from aiohttp!=4.0.0a0,!=4.0.0a1->fsspec[http]<=2025.3.0,>=2023.1.0->datasets) (1.7.0)\n",
      "Requirement already satisfied: multidict<7.0,>=4.5 in /home/ashvin/.conda/envs/mx-scaling/lib/python3.13/site-packages (from aiohttp!=4.0.0a0,!=4.0.0a1->fsspec[http]<=2025.3.0,>=2023.1.0->datasets) (6.6.3)\n",
      "Requirement already satisfied: propcache>=0.2.0 in /home/ashvin/.conda/envs/mx-scaling/lib/python3.13/site-packages (from aiohttp!=4.0.0a0,!=4.0.0a1->fsspec[http]<=2025.3.0,>=2023.1.0->datasets) (0.3.2)\n",
      "Requirement already satisfied: yarl<2.0,>=1.17.0 in /home/ashvin/.conda/envs/mx-scaling/lib/python3.13/site-packages (from aiohttp!=4.0.0a0,!=4.0.0a1->fsspec[http]<=2025.3.0,>=2023.1.0->datasets) (1.20.1)\n",
      "Requirement already satisfied: idna>=2.0 in /home/ashvin/.conda/envs/mx-scaling/lib/python3.13/site-packages (from yarl<2.0,>=1.17.0->aiohttp!=4.0.0a0,!=4.0.0a1->fsspec[http]<=2025.3.0,>=2023.1.0->datasets) (3.7)\n",
      "Requirement already satisfied: charset_normalizer<4,>=2 in /home/ashvin/.conda/envs/mx-scaling/lib/python3.13/site-packages (from requests->transformers) (3.3.2)\n",
      "Requirement already satisfied: urllib3<3,>=1.21.1 in /home/ashvin/.conda/envs/mx-scaling/lib/python3.13/site-packages (from requests->transformers) (2.5.0)\n",
      "Requirement already satisfied: certifi>=2017.4.17 in /home/ashvin/.conda/envs/mx-scaling/lib/python3.13/site-packages (from requests->transformers) (2025.6.15)\n",
      "Requirement already satisfied: mpmath<1.4,>=1.1.0 in /home/ashvin/.conda/envs/mx-scaling/lib/python3.13/site-packages (from sympy>=1.13.3->torch) (1.3.0)\n",
      "Requirement already satisfied: MarkupSafe>=2.0 in /home/ashvin/.conda/envs/mx-scaling/lib/python3.13/site-packages (from jinja2->torch) (3.0.2)\n",
      "Requirement already satisfied: python-dateutil>=2.8.2 in /home/ashvin/.conda/envs/mx-scaling/lib/python3.13/site-packages (from pandas->datasets) (2.9.0.post0)\n",
      "Requirement already satisfied: pytz>=2020.1 in /home/ashvin/.conda/envs/mx-scaling/lib/python3.13/site-packages (from pandas->datasets) (2025.2)\n",
      "Requirement already satisfied: tzdata>=2022.7 in /home/ashvin/.conda/envs/mx-scaling/lib/python3.13/site-packages (from pandas->datasets) (2025.2)\n",
      "Requirement already satisfied: six>=1.5 in /home/ashvin/.conda/envs/mx-scaling/lib/python3.13/site-packages (from python-dateutil>=2.8.2->pandas->datasets) (1.17.0)\n",
      "Downloading pytorch_ignite-0.5.2-py3-none-any.whl (343 kB)\n",
      "Downloading transformers-4.53.1-py3-none-any.whl (10.8 MB)\n",
      "\u001b[2K   \u001b[38;2;114;156;31m━━━━━━━━━━━━━━━━━━━━━━━━━━━━━━━━━━━━━━━━\u001b[0m \u001b[32m10.8/10.8 MB\u001b[0m \u001b[31m76.0 MB/s\u001b[0m eta \u001b[36m0:00:00\u001b[0m\n",
      "\u001b[?25hDownloading tokenizers-0.21.2-cp39-abi3-manylinux_2_17_x86_64.manylinux2014_x86_64.whl (3.1 MB)\n",
      "\u001b[2K   \u001b[38;2;114;156;31m━━━━━━━━━━━━━━━━━━━━━━━━━━━━━━━━━━━━━━━━\u001b[0m \u001b[32m3.1/3.1 MB\u001b[0m \u001b[31m81.3 MB/s\u001b[0m eta \u001b[36m0:00:00\u001b[0m\n",
      "Downloading regex-2024.11.6-cp313-cp313-manylinux_2_17_x86_64.manylinux2014_x86_64.whl (796 kB)\n",
      "\u001b[2K   \u001b[38;2;114;156;31m━━━━━━━━━━━━━━━━━━━━━━━━━━━━━━━━━━━━━━━━\u001b[0m \u001b[32m796.9/796.9 kB\u001b[0m \u001b[31m70.9 MB/s\u001b[0m eta \u001b[36m0:00:00\u001b[0m\n",
      "\u001b[?25hDownloading safetensors-0.5.3-cp38-abi3-manylinux_2_17_x86_64.manylinux2014_x86_64.whl (471 kB)\n",
      "Installing collected packages: safetensors, regex, tokenizers, transformers, pytorch-ignite\n",
      "\u001b[2K   \u001b[38;2;114;156;31m━━━━━━━━━━━━━━━━━━━━━━━━━━━━━━━━━━━━━━━━\u001b[0m \u001b[32m5/5\u001b[0m [pytorch-ignite] \u001b[32m3/5\u001b[0m [transformers]\n",
      "\u001b[1A\u001b[2KSuccessfully installed pytorch-ignite-0.5.2 regex-2024.11.6 safetensors-0.5.3 tokenizers-0.21.2 transformers-4.53.1\n",
      "Collecting git+https://github.com/microsoft/microxcaling-emulation.git\n",
      "  Cloning https://github.com/microsoft/microxcaling-emulation.git to /tmp/pip-req-build-_0y_m271\n",
      "  Running command git clone --filter=blob:none --quiet https://github.com/microsoft/microxcaling-emulation.git /tmp/pip-req-build-_0y_m271\n",
      "Username for 'https://github.com': ^C\n",
      "\u001b[31mERROR: Operation cancelled by user\u001b[0m\u001b[31m\n",
      "\u001b[0m"
     ]
    }
   ],
   "source": [
    "!pip install --upgrade torch torchvision pytorch-ignite transformers datasets\n",
    "!pip install git+https://github.com/microsoft/microxcaling-emulation.git"
   ]
  },
  {
   "cell_type": "code",
   "execution_count": 6,
   "id": "97a070df-91ed-4501-abc2-5d20f5680763",
   "metadata": {},
   "outputs": [],
   "source": [
    "import torch\n",
    "import torchvision.models as models\n",
    "from torchvision import transforms\n",
    "from torch.utils.data import DataLoader\n",
    "from torchvision.datasets import ImageFolder\n",
    "\n",
    "from ignite.engine import create_supervised_evaluator\n",
    "from ignite.metrics import TopKCategoricalAccuracy\n",
    "\n",
    "import os\n",
    "import shutil\n",
    "from pathlib import Path\n"
   ]
  },
  {
   "cell_type": "code",
   "execution_count": 9,
   "id": "cdb34263-1ac3-44bd-a454-b3c9ddc9cd43",
   "metadata": {},
   "outputs": [
    {
     "name": "stderr",
     "output_type": "stream",
     "text": [
      "Downloading: \"https://s3.amazonaws.com/pytorch/models/resnet50-19c8e357.pth\" to /home/ashvin/.cache/torch/hub/checkpoints/resnet50-19c8e357.pth\n",
      "100%|████████████████████████████████████████████████████████████████████████████████████████████████████████████████████████████████████████████████████████████████████████| 97.8M/97.8M [00:02<00:00, 34.4MB/s]\n"
     ]
    }
   ],
   "source": [
    "device = torch.device(\"cuda\" if torch.cuda.is_available() else \"cpu\")\n",
    "\n",
    "# mobilenet_v2 = models.mobilenet_v3_large(pretrained=True).to(device).eval()\n",
    "resnet50     = models.resnet50(pretrained=True).to(device).eval()\n"
   ]
  },
  {
   "cell_type": "code",
   "execution_count": null,
   "id": "4e3eb61e-5de1-4545-a2e1-c40f36f2bfe4",
   "metadata": {},
   "outputs": [],
   "source": [
    "!huggingface-cli login"
   ]
  },
  {
   "cell_type": "code",
   "execution_count": 1,
   "id": "3122b669-a464-4f33-93ea-6046d18d8c4f",
   "metadata": {},
   "outputs": [
    {
     "data": {
      "application/vnd.jupyter.widget-view+json": {
       "model_id": "6a829eea7c45451b91312fd874faddc4",
       "version_major": 2,
       "version_minor": 0
      },
      "text/plain": [
       "Resolving data files:   0%|          | 0/17 [00:00<?, ?it/s]"
      ]
     },
     "metadata": {},
     "output_type": "display_data"
    },
    {
     "data": {
      "application/vnd.jupyter.widget-view+json": {
       "model_id": "a1646dc0a53f495d8c3f036cb3c1eab4",
       "version_major": 2,
       "version_minor": 0
      },
      "text/plain": [
       "Resolving data files:   0%|          | 0/17 [00:00<?, ?it/s]"
      ]
     },
     "metadata": {},
     "output_type": "display_data"
    },
    {
     "name": "stdout",
     "output_type": "stream",
     "text": [
      "Dataset({\n",
      "    features: ['image', 'label'],\n",
      "    num_rows: 5000\n",
      "})\n"
     ]
    }
   ],
   "source": [
    "from datasets import load_dataset\n",
    "\n",
    "# Fetch ImageNet-100 (resized already)\n",
    "ds = load_dataset(\"clane9/imagenet-100\", split=\"validation\")\n",
    "print(ds)  # ~5000 images\n"
   ]
  },
  {
   "cell_type": "code",
   "execution_count": 2,
   "id": "699d9178-28fe-4257-9c7e-a726fcfee52b",
   "metadata": {},
   "outputs": [],
   "source": [
    "from pathlib import Path\n",
    "from PIL import Image\n",
    "\n",
    "ds = ds.remove_columns([\"pixel_values\"]) if \"pixel_values\" in ds.column_names else ds\n",
    "out_dir = Path(\"imagenet100_subset/val\")\n",
    "out_dir.mkdir(parents=True, exist_ok=True)\n",
    "\n",
    "label_names = ds.features[\"label\"].names\n",
    "\n",
    "for i, ex in enumerate(ds):\n",
    "    img: Image.Image = ex[\"image\"]\n",
    "    lbl = label_names[ex[\"label\"]]\n",
    "    folder = out_dir / lbl\n",
    "    folder.mkdir(exist_ok=True, parents=True)\n",
    "    img.save(folder / f\"{i}.png\")\n"
   ]
  },
  {
   "cell_type": "code",
   "execution_count": 3,
   "id": "492cc2cd-5825-40fb-b0b8-006dd5046315",
   "metadata": {},
   "outputs": [],
   "source": [
    "from ignite.metrics.metric import Metric\n",
    "import torch\n",
    "\n",
    "class ConfidenceMetric(Metric):\n",
    "    def reset(self):\n",
    "        self._conf_sum = 0.0\n",
    "        self._count = 0\n",
    "\n",
    "    def update(self, output):\n",
    "        y_pred, _ = output\n",
    "        probs = torch.softmax(y_pred, dim=1)\n",
    "        max_conf = probs.max(dim=1)[0]\n",
    "        self._conf_sum += max_conf.sum().item()\n",
    "        self._count += max_conf.size(0)\n",
    "\n",
    "    def compute(self):\n",
    "        return self._conf_sum / self._count\n",
    "\n",
    "class EntropyMetric(Metric):\n",
    "    def reset(self):\n",
    "        self._ent_sum = 0.0\n",
    "        self._count = 0\n",
    "\n",
    "    def update(self, output):\n",
    "        y_pred, _ = output\n",
    "        probs = torch.softmax(y_pred, dim=1)\n",
    "        entropy = -(probs * probs.log()).sum(dim=1)\n",
    "        self._ent_sum += entropy.sum().item()\n",
    "        self._count += entropy.size(0)\n",
    "\n",
    "    def compute(self):\n",
    "        return self._ent_sum / self._count"
   ]
  },
  {
   "cell_type": "code",
   "execution_count": 4,
   "id": "f99eba31-bdae-4c52-b4a0-3f47d87a4b23",
   "metadata": {},
   "outputs": [
    {
     "name": "stderr",
     "output_type": "stream",
     "text": [
      "/home/ashvin/.conda/envs/mx-scaling/lib/python3.13/site-packages/torchvision/models/_utils.py:208: UserWarning: The parameter 'pretrained' is deprecated since 0.13 and may be removed in the future, please use 'weights' instead.\n",
      "  warnings.warn(\n",
      "/home/ashvin/.conda/envs/mx-scaling/lib/python3.13/site-packages/torchvision/models/_utils.py:223: UserWarning: Arguments other than a weight enum or `None` for 'weights' are deprecated since 0.13 and may be removed in the future. The current behavior is equivalent to passing `weights=MobileNet_V2_Weights.IMAGENET1K_V1`. You can also use `weights=MobileNet_V2_Weights.DEFAULT` to get the most up-to-date weights.\n",
      "  warnings.warn(msg)\n",
      "/home/ashvin/.conda/envs/mx-scaling/lib/python3.13/site-packages/torchvision/models/_utils.py:223: UserWarning: Arguments other than a weight enum or `None` for 'weights' are deprecated since 0.13 and may be removed in the future. The current behavior is equivalent to passing `weights=ResNet50_Weights.IMAGENET1K_V1`. You can also use `weights=ResNet50_Weights.DEFAULT` to get the most up-to-date weights.\n",
      "  warnings.warn(msg)\n"
     ]
    },
    {
     "name": "stdout",
     "output_type": "stream",
     "text": [
      "MobileNet-v2 Top-1:           0.0002\n",
      "MobileNet-v2 Top-5:           0.0010\n",
      "MobileNet-v2 Cross-Entropy:   17.0375\n",
      "MobileNet-v2 Mean Confidence: 0.6758\n",
      "MobileNet-v2 Prediction Entropy: 1.2750\n",
      "ResNet50 Top-1:           0.0000\n",
      "ResNet50 Top-5:           0.0010\n",
      "ResNet50 Cross-Entropy:   16.0149\n",
      "ResNet50 Mean Confidence: 0.7305\n",
      "ResNet50 Prediction Entropy: 1.0694\n"
     ]
    }
   ],
   "source": [
    "from torchvision import transforms, datasets\n",
    "from torch.utils.data import DataLoader\n",
    "from ignite.engine import create_supervised_evaluator\n",
    "from ignite.metrics import TopKCategoricalAccuracy, Loss\n",
    "import torchvision.models as models\n",
    "import torch\n",
    "import torch.nn.functional as F\n",
    "\n",
    "# Preprocessing\n",
    "transform = transforms.Compose([\n",
    "    transforms.Resize(256),\n",
    "    transforms.CenterCrop(224),\n",
    "    transforms.ToTensor(),\n",
    "    transforms.Normalize([0.485,0.456,0.406],[0.229,0.224,0.225]),\n",
    "])\n",
    "\n",
    "# Dataset & Loader\n",
    "val_ds = datasets.ImageFolder(root=\"imagenet100_subset/val\", transform=transform)\n",
    "loader = DataLoader(val_ds, batch_size=32, shuffle=False, num_workers=4)\n",
    "\n",
    "# Device & Model Setup\n",
    "device = torch.device(\"cuda\" if torch.cuda.is_available() else \"cpu\")\n",
    "\n",
    "mobilenet = models.mobilenet_v2(pretrained=True).to(device).eval()\n",
    "resnet    = models.resnet50(pretrained=True).to(device).eval()\n",
    "\n",
    "# Metrics\n",
    "metrics = {\n",
    "    \"top1\": TopKCategoricalAccuracy(k=1),\n",
    "    \"top5\": TopKCategoricalAccuracy(k=5),\n",
    "    \"xent\": Loss(F.cross_entropy),\n",
    "    \"confidence\": ConfidenceMetric(),\n",
    "    \"entropy\": EntropyMetric(),\n",
    "}\n",
    "\n",
    "# Evaluators\n",
    "evaluator_mn = create_supervised_evaluator(mobilenet, metrics=metrics, device=device)\n",
    "evaluator_rn = create_supervised_evaluator(resnet, metrics=metrics, device=device)\n",
    "\n",
    "# Run\n",
    "mn_state = evaluator_mn.run(loader)\n",
    "rn_state = evaluator_rn.run(loader)\n",
    "\n",
    "# Output\n",
    "def print_metrics(name, state):\n",
    "    print(f\"{name} Top-1:           {state.metrics['top1']:.4f}\")\n",
    "    print(f\"{name} Top-5:           {state.metrics['top5']:.4f}\")\n",
    "    print(f\"{name} Cross-Entropy:   {state.metrics['xent']:.4f}\")\n",
    "    print(f\"{name} Mean Confidence: {state.metrics['confidence']:.4f}\")\n",
    "    print(f\"{name} Prediction Entropy: {state.metrics['entropy']:.4f}\")\n",
    "\n",
    "print_metrics(\"MobileNet-v2\", mn_state)\n",
    "print_metrics(\"ResNet50\", rn_state)"
   ]
  },
  {
   "cell_type": "code",
   "execution_count": 5,
   "id": "06aec3cf-f2ad-4115-b955-583d16e6aae3",
   "metadata": {},
   "outputs": [
    {
     "ename": "ModuleNotFoundError",
     "evalue": "No module named 'microxcaling'",
     "output_type": "error",
     "traceback": [
      "\u001b[31m---------------------------------------------------------------------------\u001b[39m",
      "\u001b[31mModuleNotFoundError\u001b[39m                       Traceback (most recent call last)",
      "\u001b[36mCell\u001b[39m\u001b[36m \u001b[39m\u001b[32mIn[5]\u001b[39m\u001b[32m, line 1\u001b[39m\n\u001b[32m----> \u001b[39m\u001b[32m1\u001b[39m \u001b[38;5;28;01mfrom\u001b[39;00m\u001b[38;5;250m \u001b[39m\u001b[34;01mmicroxcaling\u001b[39;00m\u001b[34;01m.\u001b[39;00m\u001b[34;01mmx_mapping\u001b[39;00m\u001b[38;5;250m \u001b[39m\u001b[38;5;28;01mimport\u001b[39;00m inject_pytorch_ops\n\u001b[32m      2\u001b[39m \u001b[38;5;28;01mfrom\u001b[39;00m\u001b[38;5;250m \u001b[39m\u001b[34;01mmicroxcaling\u001b[39;00m\u001b[34;01m.\u001b[39;00m\u001b[34;01mformats\u001b[39;00m\u001b[38;5;250m \u001b[39m\u001b[38;5;28;01mimport\u001b[39;00m E4M3, BF8  \u001b[38;5;66;03m# or E5M2, etc.\u001b[39;00m\n\u001b[32m      4\u001b[39m \u001b[38;5;28;01mdef\u001b[39;00m\u001b[38;5;250m \u001b[39m\u001b[34minject_microxcaling\u001b[39m(fmt_name):\n",
      "\u001b[31mModuleNotFoundError\u001b[39m: No module named 'microxcaling'"
     ]
    }
   ],
   "source": [
    "from microxcaling.mx_mapping import inject_pytorch_ops\n",
    "from microxcaling.formats import E4M3, BF8  # or E5M2, etc.\n",
    "\n",
    "def inject_microxcaling(fmt_name):\n",
    "    if fmt_name == \"mx-e4m3\":\n",
    "        inject_pytorch_ops(E4M3)\n",
    "    elif fmt_name == \"mx-bf8\":\n",
    "        inject_pytorch_ops(BF8)\n",
    "    else:\n",
    "        pass  # Do nothing for torch native formats\n"
   ]
  },
  {
   "cell_type": "code",
   "execution_count": 17,
   "id": "7b8875cb-92bd-48cc-a0c4-5a8d5fa44dc8",
   "metadata": {},
   "outputs": [
    {
     "ename": "ModuleNotFoundError",
     "evalue": "No module named 'microxcaling'",
     "output_type": "error",
     "traceback": [
      "\u001b[31m---------------------------------------------------------------------------\u001b[39m",
      "\u001b[31mModuleNotFoundError\u001b[39m                       Traceback (most recent call last)",
      "\u001b[36mCell\u001b[39m\u001b[36m \u001b[39m\u001b[32mIn[17]\u001b[39m\u001b[32m, line 1\u001b[39m\n\u001b[32m----> \u001b[39m\u001b[32m1\u001b[39m \u001b[38;5;28;01mimport\u001b[39;00m\u001b[38;5;250m \u001b[39m\u001b[34;01mmicroxcaling\u001b[39;00m\n",
      "\u001b[31mModuleNotFoundError\u001b[39m: No module named 'microxcaling'"
     ]
    }
   ],
   "source": [
    "import microxcaling"
   ]
  },
  {
   "cell_type": "code",
   "execution_count": null,
   "id": "c545e427-477f-46e4-b668-f2d1e1f7104d",
   "metadata": {},
   "outputs": [],
   "source": []
  }
 ],
 "metadata": {
  "kernelspec": {
   "display_name": "Python 3 (ipykernel)",
   "language": "python",
   "name": "python3"
  },
  "language_info": {
   "codemirror_mode": {
    "name": "ipython",
    "version": 3
   },
   "file_extension": ".py",
   "mimetype": "text/x-python",
   "name": "python",
   "nbconvert_exporter": "python",
   "pygments_lexer": "ipython3",
   "version": "3.13.5"
  }
 },
 "nbformat": 4,
 "nbformat_minor": 5
}
